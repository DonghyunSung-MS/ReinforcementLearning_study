{
 "cells": [
  {
   "cell_type": "code",
   "execution_count": 27,
   "metadata": {},
   "outputs": [],
   "source": [
    "import torch\n",
    "import numpy as np"
   ]
  },
  {
   "cell_type": "code",
   "execution_count": 2,
   "metadata": {},
   "outputs": [
    {
     "name": "stdout",
     "output_type": "stream",
     "text": [
      "tensor([[-7.1559e-11,  4.5853e-41, -7.1559e-11],\n",
      "        [ 4.5853e-41,         nan,  0.0000e+00],\n",
      "        [ 7.6194e+31,  1.5564e+28,  4.7984e+30],\n",
      "        [ 6.2121e+22,  1.8370e+25,  1.4603e-19],\n",
      "        [ 2.7517e+12,  7.5338e+28,  3.0313e+32]])\n"
     ]
    }
   ],
   "source": [
    "x = torch.empty(5,3)\n",
    "print(x)"
   ]
  },
  {
   "cell_type": "code",
   "execution_count": 6,
   "metadata": {},
   "outputs": [
    {
     "name": "stdout",
     "output_type": "stream",
     "text": [
      "tensor([[0.5137, 0.7834, 0.4679],\n",
      "        [0.7113, 0.4955, 0.0884],\n",
      "        [0.9886, 0.1686, 0.0328],\n",
      "        [0.3828, 0.8704, 0.4453],\n",
      "        [0.1954, 0.7417, 0.9197]])\n",
      "torch.Size([5, 3])\n"
     ]
    }
   ],
   "source": [
    "x = torch.rand(5,3)\n",
    "print(x)\n",
    "print(x.size())"
   ]
  },
  {
   "cell_type": "code",
   "execution_count": 7,
   "metadata": {},
   "outputs": [
    {
     "data": {
      "text/plain": [
       "tensor([[0, 0, 0],\n",
       "        [0, 0, 0],\n",
       "        [0, 0, 0],\n",
       "        [0, 0, 0],\n",
       "        [0, 0, 0]])"
      ]
     },
     "execution_count": 7,
     "metadata": {},
     "output_type": "execute_result"
    }
   ],
   "source": [
    "torch.zeros(5,3,dtype = torch.long)"
   ]
  },
  {
   "cell_type": "code",
   "execution_count": 10,
   "metadata": {},
   "outputs": [
    {
     "data": {
      "text/plain": [
       "tensor([[5, 5, 3],\n",
       "        [3, 2, 2]])"
      ]
     },
     "execution_count": 10,
     "metadata": {},
     "output_type": "execute_result"
    }
   ],
   "source": [
    "torch.tensor([[5,5,3],[3,2,2]]) # similar to numpy"
   ]
  },
  {
   "cell_type": "code",
   "execution_count": 15,
   "metadata": {},
   "outputs": [
    {
     "data": {
      "text/plain": [
       "tensor([[1., 1., 1.],\n",
       "        [1., 1., 1.],\n",
       "        [1., 1., 1.],\n",
       "        [1., 1., 1.],\n",
       "        [1., 1., 1.]])"
      ]
     },
     "execution_count": 15,
     "metadata": {},
     "output_type": "execute_result"
    }
   ],
   "source": [
    "x.new_ones(5,3,dtype= torch.float32)"
   ]
  },
  {
   "cell_type": "code",
   "execution_count": 17,
   "metadata": {},
   "outputs": [
    {
     "name": "stdout",
     "output_type": "stream",
     "text": [
      "tensor([[-0.7613, -2.6645,  0.0873],\n",
      "        [ 0.1977, -1.5460, -0.4825],\n",
      "        [ 0.7168,  0.8678, -2.9543],\n",
      "        [ 0.9071, -0.7772, -0.9311],\n",
      "        [ 0.5592,  0.1676, -0.0956]])\n"
     ]
    }
   ],
   "source": [
    "x = torch.randn_like(x,dtype=torch.float)#overiding is availabe\n",
    "print(x)"
   ]
  },
  {
   "cell_type": "code",
   "execution_count": 19,
   "metadata": {},
   "outputs": [],
   "source": [
    "y = torch.randn(5,3)"
   ]
  },
  {
   "cell_type": "code",
   "execution_count": 21,
   "metadata": {},
   "outputs": [
    {
     "name": "stdout",
     "output_type": "stream",
     "text": [
      "tensor([[-1.3448, -3.1883,  1.0894],\n",
      "        [-1.3588, -0.3808, -2.0804],\n",
      "        [ 0.6864,  0.0193, -2.6025],\n",
      "        [ 2.2672, -2.0404, -2.4126],\n",
      "        [ 0.1152,  0.0315,  2.6817]])\n",
      "tensor([[-1.3448, -3.1883,  1.0894],\n",
      "        [-1.3588, -0.3808, -2.0804],\n",
      "        [ 0.6864,  0.0193, -2.6025],\n",
      "        [ 2.2672, -2.0404, -2.4126],\n",
      "        [ 0.1152,  0.0315,  2.6817]])\n",
      "tensor([[-1.3448, -3.1883,  1.0894],\n",
      "        [-1.3588, -0.3808, -2.0804],\n",
      "        [ 0.6864,  0.0193, -2.6025],\n",
      "        [ 2.2672, -2.0404, -2.4126],\n",
      "        [ 0.1152,  0.0315,  2.6817]])\n"
     ]
    }
   ],
   "source": [
    "# 3-ways to add\n",
    "print(x+y)\n",
    "print(torch.add(x,y))\n",
    "result = torch.empty(5,3)\n",
    "torch.add(x,y,out= result)\n",
    "print(result)"
   ]
  },
  {
   "cell_type": "code",
   "execution_count": 23,
   "metadata": {},
   "outputs": [
    {
     "name": "stdout",
     "output_type": "stream",
     "text": [
      "torch.Size([4, 4]) torch.Size([16]) torch.Size([2, 8])\n"
     ]
    }
   ],
   "source": [
    "# reshaping similar to numpy reshape\n",
    "x = torch.randn(4,4)\n",
    "y = x.view(16)\n",
    "z = x.view(-1,8) # same is view(2,8) -1 is inferred from source x\n",
    "print(x.size(),y.size(),z.size())"
   ]
  },
  {
   "cell_type": "code",
   "execution_count": 24,
   "metadata": {},
   "outputs": [
    {
     "name": "stdout",
     "output_type": "stream",
     "text": [
      "tensor([5, 3, 5])\n",
      "[5 3 5]\n"
     ]
    }
   ],
   "source": [
    "# Numpy bridge\n",
    "\n",
    "# torch(tensor) --> numpy ndarray\n",
    "\n",
    "a = torch.tensor([5,3,5])\n",
    "print(a)\n",
    "a = a.numpy()\n",
    "print(a)"
   ]
  },
  {
   "cell_type": "code",
   "execution_count": 34,
   "metadata": {},
   "outputs": [
    {
     "name": "stdout",
     "output_type": "stream",
     "text": [
      "[ True  True  True  True  True]\n",
      "tensor([True, True, True, True, True], dtype=torch.bool)\n"
     ]
    }
   ],
   "source": [
    "# torch(tensor) <-- numpy ndarray\n",
    "a = np.ones(5).astype(np.bool)\n",
    "print(a)\n",
    "a = torch.from_numpy(a)\n",
    "print(a)"
   ]
  },
  {
   "cell_type": "code",
   "execution_count": 35,
   "metadata": {},
   "outputs": [
    {
     "data": {
      "text/plain": [
       "True"
      ]
     },
     "execution_count": 35,
     "metadata": {},
     "output_type": "execute_result"
    }
   ],
   "source": [
    "torch.cuda.is_available()"
   ]
  },
  {
   "cell_type": "code",
   "execution_count": 45,
   "metadata": {},
   "outputs": [
    {
     "name": "stdout",
     "output_type": "stream",
     "text": [
      "tensor([[ 0.1826,  0.0457,  0.5066],\n",
      "        [-0.1142,  1.7604,  0.5025],\n",
      "        [-0.3520, -1.0890, -1.0082],\n",
      "        [-0.0224,  1.4722, -0.0748],\n",
      "        [ 1.2374, -0.0290,  0.2490]])\n",
      "tensor([[1., 1., 1.],\n",
      "        [1., 1., 1.],\n",
      "        [1., 1., 1.],\n",
      "        [1., 1., 1.],\n",
      "        [1., 1., 1.]], device='cuda:0')\n",
      "tensor([[ 0.1826,  0.0457,  0.5066],\n",
      "        [-0.1142,  1.7604,  0.5025],\n",
      "        [-0.3520, -1.0890, -1.0082],\n",
      "        [-0.0224,  1.4722, -0.0748],\n",
      "        [ 1.2374, -0.0290,  0.2490]], device='cuda:0')\n",
      "tensor([[1., 1., 1.],\n",
      "        [1., 1., 1.],\n",
      "        [1., 1., 1.],\n",
      "        [1., 1., 1.],\n",
      "        [1., 1., 1.]], device='cuda:0')\n",
      "tensor([[ 1.1826,  1.0457,  1.5066],\n",
      "        [ 0.8858,  2.7604,  1.5025],\n",
      "        [ 0.6480, -0.0890, -0.0082],\n",
      "        [ 0.9776,  2.4722,  0.9252],\n",
      "        [ 2.2374,  0.9710,  1.2490]], device='cuda:0')\n",
      "tensor([[ 1.1826,  1.0457,  1.5066],\n",
      "        [ 0.8858,  2.7604,  1.5025],\n",
      "        [ 0.6480, -0.0890, -0.0082],\n",
      "        [ 0.9776,  2.4722,  0.9252],\n",
      "        [ 2.2374,  0.9710,  1.2490]], dtype=torch.float64)\n"
     ]
    }
   ],
   "source": [
    "x = np.random.randn(5,3).astype(np.float32)\n",
    "x = torch.from_numpy(x)\n",
    "if torch.cuda.is_available():\n",
    "    device = torch.device(\"cuda\")\n",
    "    y = torch.ones_like(x,device=device)\n",
    "    print(x) # cpu\n",
    "    print(y) # cuda\n",
    "    x = x.to(device) # cpu -> cuda\n",
    "    print(x) # cuda\n",
    "    print(y) # cuda\n",
    "    z = x+y\n",
    "    print(z) # cuda\n",
    "    print(z.to(\"cpu\", torch.double)) # cpu"
   ]
  },
  {
   "cell_type": "code",
   "execution_count": null,
   "metadata": {},
   "outputs": [],
   "source": []
  }
 ],
 "metadata": {
  "kernelspec": {
   "display_name": "Python 3",
   "language": "python",
   "name": "python3"
  },
  "language_info": {
   "codemirror_mode": {
    "name": "ipython",
    "version": 3
   },
   "file_extension": ".py",
   "mimetype": "text/x-python",
   "name": "python",
   "nbconvert_exporter": "python",
   "pygments_lexer": "ipython3",
   "version": "3.6.10"
  }
 },
 "nbformat": 4,
 "nbformat_minor": 4
}

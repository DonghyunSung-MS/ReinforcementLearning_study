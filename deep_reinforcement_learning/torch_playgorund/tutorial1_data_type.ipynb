{
 "cells": [
  {
   "cell_type": "code",
   "execution_count": 2,
   "metadata": {},
   "outputs": [],
   "source": [
    "import torch\n",
    "import numpy as np"
   ]
  },
  {
   "cell_type": "code",
   "execution_count": 2,
   "metadata": {},
   "outputs": [
    {
     "name": "stdout",
     "output_type": "stream",
     "text": [
      "tensor([[-7.1559e-11,  4.5853e-41, -7.1559e-11],\n",
      "        [ 4.5853e-41,         nan,  0.0000e+00],\n",
      "        [ 7.6194e+31,  1.5564e+28,  4.7984e+30],\n",
      "        [ 6.2121e+22,  1.8370e+25,  1.4603e-19],\n",
      "        [ 2.7517e+12,  7.5338e+28,  3.0313e+32]])\n"
     ]
    }
   ],
   "source": [
    "x = torch.empty(5,3)\n",
    "print(x)"
   ]
  },
  {
   "cell_type": "code",
   "execution_count": 6,
   "metadata": {},
   "outputs": [
    {
     "name": "stdout",
     "output_type": "stream",
     "text": [
      "tensor([[0.5137, 0.7834, 0.4679],\n",
      "        [0.7113, 0.4955, 0.0884],\n",
      "        [0.9886, 0.1686, 0.0328],\n",
      "        [0.3828, 0.8704, 0.4453],\n",
      "        [0.1954, 0.7417, 0.9197]])\n",
      "torch.Size([5, 3])\n"
     ]
    }
   ],
   "source": [
    "x = torch.rand(5,3)\n",
    "print(x)\n",
    "print(x.size())"
   ]
  },
  {
   "cell_type": "code",
   "execution_count": 7,
   "metadata": {},
   "outputs": [
    {
     "data": {
      "text/plain": [
       "tensor([[0, 0, 0],\n",
       "        [0, 0, 0],\n",
       "        [0, 0, 0],\n",
       "        [0, 0, 0],\n",
       "        [0, 0, 0]])"
      ]
     },
     "execution_count": 7,
     "metadata": {},
     "output_type": "execute_result"
    }
   ],
   "source": [
    "torch.zeros(5,3,dtype = torch.long)"
   ]
  },
  {
   "cell_type": "code",
   "execution_count": 10,
   "metadata": {},
   "outputs": [
    {
     "data": {
      "text/plain": [
       "tensor([[5, 5, 3],\n",
       "        [3, 2, 2]])"
      ]
     },
     "execution_count": 10,
     "metadata": {},
     "output_type": "execute_result"
    }
   ],
   "source": [
    "torch.tensor([[5,5,3],[3,2,2]]) # similar to numpy"
   ]
  },
  {
   "cell_type": "code",
   "execution_count": 15,
   "metadata": {},
   "outputs": [
    {
     "data": {
      "text/plain": [
       "tensor([[1., 1., 1.],\n",
       "        [1., 1., 1.],\n",
       "        [1., 1., 1.],\n",
       "        [1., 1., 1.],\n",
       "        [1., 1., 1.]])"
      ]
     },
     "execution_count": 15,
     "metadata": {},
     "output_type": "execute_result"
    }
   ],
   "source": [
    "x.new_ones(5,3,dtype= torch.float32)"
   ]
  },
  {
   "cell_type": "code",
   "execution_count": 17,
   "metadata": {},
   "outputs": [
    {
     "name": "stdout",
     "output_type": "stream",
     "text": [
      "tensor([[-0.7613, -2.6645,  0.0873],\n",
      "        [ 0.1977, -1.5460, -0.4825],\n",
      "        [ 0.7168,  0.8678, -2.9543],\n",
      "        [ 0.9071, -0.7772, -0.9311],\n",
      "        [ 0.5592,  0.1676, -0.0956]])\n"
     ]
    }
   ],
   "source": [
    "x = torch.randn_like(x,dtype=torch.float)#overiding is availabe\n",
    "print(x)"
   ]
  },
  {
   "cell_type": "code",
   "execution_count": 19,
   "metadata": {},
   "outputs": [],
   "source": [
    "y = torch.randn(5,3)"
   ]
  },
  {
   "cell_type": "code",
   "execution_count": 21,
   "metadata": {},
   "outputs": [
    {
     "name": "stdout",
     "output_type": "stream",
     "text": [
      "tensor([[-1.3448, -3.1883,  1.0894],\n",
      "        [-1.3588, -0.3808, -2.0804],\n",
      "        [ 0.6864,  0.0193, -2.6025],\n",
      "        [ 2.2672, -2.0404, -2.4126],\n",
      "        [ 0.1152,  0.0315,  2.6817]])\n",
      "tensor([[-1.3448, -3.1883,  1.0894],\n",
      "        [-1.3588, -0.3808, -2.0804],\n",
      "        [ 0.6864,  0.0193, -2.6025],\n",
      "        [ 2.2672, -2.0404, -2.4126],\n",
      "        [ 0.1152,  0.0315,  2.6817]])\n",
      "tensor([[-1.3448, -3.1883,  1.0894],\n",
      "        [-1.3588, -0.3808, -2.0804],\n",
      "        [ 0.6864,  0.0193, -2.6025],\n",
      "        [ 2.2672, -2.0404, -2.4126],\n",
      "        [ 0.1152,  0.0315,  2.6817]])\n"
     ]
    }
   ],
   "source": [
    "# 3-ways to add\n",
    "print(x+y)\n",
    "print(torch.add(x,y))\n",
    "result = torch.empty(5,3)\n",
    "torch.add(x,y,out= result)\n",
    "print(result)"
   ]
  },
  {
   "cell_type": "code",
   "execution_count": 23,
   "metadata": {},
   "outputs": [
    {
     "name": "stdout",
     "output_type": "stream",
     "text": [
      "torch.Size([4, 4]) torch.Size([16]) torch.Size([2, 8])\n"
     ]
    }
   ],
   "source": [
    "# reshaping similar to numpy reshape\n",
    "x = torch.randn(4,4)\n",
    "y = x.view(16)\n",
    "z = x.view(-1,8) # same is view(2,8) -1 is inferred from source x\n",
    "print(x.size(),y.size(),z.size())"
   ]
  },
  {
   "cell_type": "code",
   "execution_count": 24,
   "metadata": {},
   "outputs": [
    {
     "name": "stdout",
     "output_type": "stream",
     "text": [
      "tensor([5, 3, 5])\n",
      "[5 3 5]\n"
     ]
    }
   ],
   "source": [
    "# Numpy bridge\n",
    "\n",
    "# torch(tensor) --> numpy ndarray\n",
    "\n",
    "a = torch.tensor([5,3,5])\n",
    "print(a)\n",
    "a = a.numpy()\n",
    "print(a)"
   ]
  },
  {
   "cell_type": "code",
   "execution_count": 34,
   "metadata": {},
   "outputs": [
    {
     "name": "stdout",
     "output_type": "stream",
     "text": [
      "[ True  True  True  True  True]\n",
      "tensor([True, True, True, True, True], dtype=torch.bool)\n"
     ]
    }
   ],
   "source": [
    "# torch(tensor) <-- numpy ndarray\n",
    "a = np.ones(5).astype(np.bool)\n",
    "print(a)\n",
    "a = torch.from_numpy(a)\n",
    "print(a)"
   ]
  },
  {
   "cell_type": "code",
   "execution_count": 35,
   "metadata": {},
   "outputs": [
    {
     "data": {
      "text/plain": [
       "True"
      ]
     },
     "execution_count": 35,
     "metadata": {},
     "output_type": "execute_result"
    }
   ],
   "source": [
    "torch.cuda.is_available()"
   ]
  },
  {
   "cell_type": "code",
   "execution_count": 45,
   "metadata": {},
   "outputs": [
    {
     "name": "stdout",
     "output_type": "stream",
     "text": [
      "tensor([[ 0.1826,  0.0457,  0.5066],\n",
      "        [-0.1142,  1.7604,  0.5025],\n",
      "        [-0.3520, -1.0890, -1.0082],\n",
      "        [-0.0224,  1.4722, -0.0748],\n",
      "        [ 1.2374, -0.0290,  0.2490]])\n",
      "tensor([[1., 1., 1.],\n",
      "        [1., 1., 1.],\n",
      "        [1., 1., 1.],\n",
      "        [1., 1., 1.],\n",
      "        [1., 1., 1.]], device='cuda:0')\n",
      "tensor([[ 0.1826,  0.0457,  0.5066],\n",
      "        [-0.1142,  1.7604,  0.5025],\n",
      "        [-0.3520, -1.0890, -1.0082],\n",
      "        [-0.0224,  1.4722, -0.0748],\n",
      "        [ 1.2374, -0.0290,  0.2490]], device='cuda:0')\n",
      "tensor([[1., 1., 1.],\n",
      "        [1., 1., 1.],\n",
      "        [1., 1., 1.],\n",
      "        [1., 1., 1.],\n",
      "        [1., 1., 1.]], device='cuda:0')\n",
      "tensor([[ 1.1826,  1.0457,  1.5066],\n",
      "        [ 0.8858,  2.7604,  1.5025],\n",
      "        [ 0.6480, -0.0890, -0.0082],\n",
      "        [ 0.9776,  2.4722,  0.9252],\n",
      "        [ 2.2374,  0.9710,  1.2490]], device='cuda:0')\n",
      "tensor([[ 1.1826,  1.0457,  1.5066],\n",
      "        [ 0.8858,  2.7604,  1.5025],\n",
      "        [ 0.6480, -0.0890, -0.0082],\n",
      "        [ 0.9776,  2.4722,  0.9252],\n",
      "        [ 2.2374,  0.9710,  1.2490]], dtype=torch.float64)\n"
     ]
    }
   ],
   "source": [
    "x = np.random.randn(5,3).astype(np.float32)\n",
    "x = torch.from_numpy(x)\n",
    "if torch.cuda.is_available():\n",
    "    device = torch.device(\"cuda\")\n",
    "    y = torch.ones_like(x,device=device)\n",
    "    print(x) # cpu\n",
    "    print(y) # cuda\n",
    "    x = x.to(device) # cpu -> cuda\n",
    "    print(x) # cuda\n",
    "    print(y) # cuda\n",
    "    z = x+y\n",
    "    print(z) # cuda\n",
    "    print(z.to(\"cpu\", torch.double)) # cpu"
   ]
  },
  {
   "cell_type": "code",
   "execution_count": 4,
   "metadata": {},
   "outputs": [
    {
     "data": {
      "text/plain": [
       "array([[0.64569997, 0.2826699 , 0.90583647],\n",
       "       [0.07109179, 0.88151519, 0.42056118]])"
      ]
     },
     "execution_count": 4,
     "metadata": {},
     "output_type": "execute_result"
    }
   ],
   "source": [
    "random_np = np.random.rand(2,3)\n",
    "random_np"
   ]
  },
  {
   "cell_type": "code",
   "execution_count": 7,
   "metadata": {},
   "outputs": [
    {
     "data": {
      "text/plain": [
       "tensor([[0.6457, 0.2827, 0.9058],\n",
       "        [0.0711, 0.8815, 0.4206]], dtype=torch.float64)"
      ]
     },
     "execution_count": 7,
     "metadata": {},
     "output_type": "execute_result"
    }
   ],
   "source": [
    "random_torch = torch.from_numpy(random_np)\n",
    "random_torch"
   ]
  },
  {
   "cell_type": "code",
   "execution_count": 9,
   "metadata": {},
   "outputs": [],
   "source": [
    "log_std=torch.zeros_like(random_torch)"
   ]
  },
  {
   "cell_type": "code",
   "execution_count": 11,
   "metadata": {},
   "outputs": [],
   "source": [
    "std = torch.exp(log_std)"
   ]
  },
  {
   "cell_type": "code",
   "execution_count": 12,
   "metadata": {},
   "outputs": [
    {
     "data": {
      "text/plain": [
       "tensor([[1., 1., 1.],\n",
       "        [1., 1., 1.]], dtype=torch.float64)"
      ]
     },
     "execution_count": 12,
     "metadata": {},
     "output_type": "execute_result"
    }
   ],
   "source": [
    "std"
   ]
  },
  {
   "cell_type": "code",
   "execution_count": 13,
   "metadata": {},
   "outputs": [],
   "source": [
    "from torch.distributions import Normal"
   ]
  },
  {
   "cell_type": "code",
   "execution_count": 19,
   "metadata": {},
   "outputs": [
    {
     "name": "stdout",
     "output_type": "stream",
     "text": [
      "tensor([-1.,  0.,  1.]) tensor([1., 1., 1.])\n"
     ]
    }
   ],
   "source": [
    "mu = torch.tensor([-1,0,1]).float()\n",
    "std = torch.tensor([1.0,1.0,1.0]).float()\n",
    "print(mu,std)"
   ]
  },
  {
   "cell_type": "code",
   "execution_count": 26,
   "metadata": {},
   "outputs": [],
   "source": [
    "torch.manual_seed(0)\n",
    "normal = Normal(mu,std)"
   ]
  },
  {
   "cell_type": "code",
   "execution_count": 35,
   "metadata": {},
   "outputs": [],
   "source": [
    "import pandas as pd"
   ]
  },
  {
   "cell_type": "code",
   "execution_count": 53,
   "metadata": {},
   "outputs": [],
   "source": [
    "data = []\n",
    "for _ in range(1000):\n",
    "    data.append(normal.sample().numpy())"
   ]
  },
  {
   "cell_type": "code",
   "execution_count": 67,
   "metadata": {},
   "outputs": [
    {
     "data": {
      "text/html": [
       "<div>\n",
       "<style scoped>\n",
       "    .dataframe tbody tr th:only-of-type {\n",
       "        vertical-align: middle;\n",
       "    }\n",
       "\n",
       "    .dataframe tbody tr th {\n",
       "        vertical-align: top;\n",
       "    }\n",
       "\n",
       "    .dataframe thead th {\n",
       "        text-align: right;\n",
       "    }\n",
       "</style>\n",
       "<table border=\"1\" class=\"dataframe\">\n",
       "  <thead>\n",
       "    <tr style=\"text-align: right;\">\n",
       "      <th></th>\n",
       "      <th>1st</th>\n",
       "      <th>2nd</th>\n",
       "      <th>3rd</th>\n",
       "    </tr>\n",
       "  </thead>\n",
       "  <tbody>\n",
       "    <tr>\n",
       "      <th>count</th>\n",
       "      <td>1000.000000</td>\n",
       "      <td>1000.000000</td>\n",
       "      <td>1000.000000</td>\n",
       "    </tr>\n",
       "    <tr>\n",
       "      <th>mean</th>\n",
       "      <td>-1.007558</td>\n",
       "      <td>-0.041701</td>\n",
       "      <td>0.992314</td>\n",
       "    </tr>\n",
       "    <tr>\n",
       "      <th>std</th>\n",
       "      <td>1.014150</td>\n",
       "      <td>1.012063</td>\n",
       "      <td>1.026053</td>\n",
       "    </tr>\n",
       "    <tr>\n",
       "      <th>min</th>\n",
       "      <td>-4.145956</td>\n",
       "      <td>-3.784548</td>\n",
       "      <td>-2.417005</td>\n",
       "    </tr>\n",
       "    <tr>\n",
       "      <th>25%</th>\n",
       "      <td>-1.699877</td>\n",
       "      <td>-0.733280</td>\n",
       "      <td>0.291520</td>\n",
       "    </tr>\n",
       "    <tr>\n",
       "      <th>50%</th>\n",
       "      <td>-1.037711</td>\n",
       "      <td>-0.022731</td>\n",
       "      <td>0.967349</td>\n",
       "    </tr>\n",
       "    <tr>\n",
       "      <th>75%</th>\n",
       "      <td>-0.323495</td>\n",
       "      <td>0.632544</td>\n",
       "      <td>1.648016</td>\n",
       "    </tr>\n",
       "    <tr>\n",
       "      <th>max</th>\n",
       "      <td>3.093682</td>\n",
       "      <td>3.430090</td>\n",
       "      <td>4.655980</td>\n",
       "    </tr>\n",
       "  </tbody>\n",
       "</table>\n",
       "</div>"
      ],
      "text/plain": [
       "               1st          2nd          3rd\n",
       "count  1000.000000  1000.000000  1000.000000\n",
       "mean     -1.007558    -0.041701     0.992314\n",
       "std       1.014150     1.012063     1.026053\n",
       "min      -4.145956    -3.784548    -2.417005\n",
       "25%      -1.699877    -0.733280     0.291520\n",
       "50%      -1.037711    -0.022731     0.967349\n",
       "75%      -0.323495     0.632544     1.648016\n",
       "max       3.093682     3.430090     4.655980"
      ]
     },
     "execution_count": 67,
     "metadata": {},
     "output_type": "execute_result"
    }
   ],
   "source": [
    "data = pd.DataFrame(data,columns=['1st','2nd','3rd'])\n",
    "data.describe()"
   ]
  },
  {
   "cell_type": "code",
   "execution_count": 64,
   "metadata": {},
   "outputs": [],
   "source": [
    "import matplotlib.pyplot as plt\n",
    "import seaborn as sns\n",
    "%matplotlib inline"
   ]
  },
  {
   "cell_type": "code",
   "execution_count": 66,
   "metadata": {},
   "outputs": [
    {
     "data": {
      "text/plain": [
       "<matplotlib.axes._subplots.AxesSubplot at 0x7f996aa52e10>"
      ]
     },
     "execution_count": 66,
     "metadata": {},
     "output_type": "execute_result"
    },
    {
     "data": {
      "image/png": "[encoded data removed]",
      "text/plain": [
       "<Figure size 432x288 with 1 Axes>"
      ]
     },
     "metadata": {
      "needs_background": "light"
     },
     "output_type": "display_data"
    }
   ],
   "source": [
    "sns.distplot(data['1st'])"
   ]
  },
  {
   "cell_type": "code",
   "execution_count": 74,
   "metadata": {},
   "outputs": [
    {
     "name": "stdout",
     "output_type": "stream",
     "text": [
      "tensor([[0.1216, 0.6230]], dtype=torch.float64) tensor([[0.9940, 0.1005, 0.8825, 0.5615]], dtype=torch.float64)\n"
     ]
    }
   ],
   "source": [
    "a = torch.from_numpy(np.random.rand(1,2))\n",
    "b = torch.from_numpy(np.random.rand(1,4))\n",
    "print(a,b)"
   ]
  },
  {
   "cell_type": "code",
   "execution_count": 80,
   "metadata": {},
   "outputs": [
    {
     "data": {
      "text/plain": [
       "tensor([[0.1216, 0.6230, 0.9940, 0.1005, 0.8825, 0.5615]], dtype=torch.float64)"
      ]
     },
     "execution_count": 80,
     "metadata": {},
     "output_type": "execute_result"
    }
   ],
   "source": [
    "torch.cat((a,b),dim=-1)"
   ]
  },
  {
   "cell_type": "code",
   "execution_count": 83,
   "metadata": {},
   "outputs": [
    {
     "data": {
      "text/plain": [
       "<module 'torch.cuda' from '/home/donghyun/anaconda2/envs/gym_torch/lib/python3.6/site-packages/torch/cuda/__init__.py'>"
      ]
     },
     "execution_count": 83,
     "metadata": {},
     "output_type": "execute_result"
    }
   ],
   "source": [
    "torch.cuda"
   ]
  },
  {
   "cell_type": "code",
   "execution_count": null,
   "metadata": {},
   "outputs": [],
   "source": []
  }
 ],
 "metadata": {
  "kernelspec": {
   "display_name": "Python 3",
   "language": "python",
   "name": "python3"
  },
  "language_info": {
   "codemirror_mode": {
    "name": "ipython",
    "version": 3
   },
   "file_extension": ".py",
   "mimetype": "text/x-python",
   "name": "python",
   "nbconvert_exporter": "python",
   "pygments_lexer": "ipython3",
   "version": "3.6.10"
  }
 },
 "nbformat": 4,
 "nbformat_minor": 4
}

{
 "cells": [
  {
   "cell_type": "code",
   "execution_count": null,
   "metadata": {},
   "outputs": [],
   "source": [
    "import gym\n",
    "import time\n",
    "import numpy as np\n",
    "import pybulletgym\n",
    "import mocca_envs\n",
    "\n",
    "#Walker2DBulletEnv\n",
    "#HumanoidBulletEnv\n",
    "#Walker3DCustomEnv\n",
    "#Walker3DStepperEnv\n",
    "#CassieEnv-v0\n",
    "#Child3DCustomEnv-v0\n",
    "#Walker3DChairEnv-v0\n",
    "env_name = \"Walker2DPyBulletEnv-v0\"\n",
    "env = gym.make(env_name)\n",
    "obs = env.reset()\n",
    "\n",
    "while True:\n",
    "    env.step(env.action_space.sample())\n",
    "\n"
   ]
  },
  {
   "cell_type": "code",
   "execution_count": null,
   "metadata": {},
   "outputs": [
    {
     "name": "stderr",
     "output_type": "stream",
     "text": [
      "/home/donghyun/anaconda2/envs/gym_torch/lib/python3.6/site-packages/gym/logger.py:30: UserWarning: \u001b[33mWARN: Box bound precision lowered by casting to float32\u001b[0m\n",
      "  warnings.warn(colorize('%s: %s'%('WARN', msg % args), 'yellow'))\n"
     ]
    },
    {
     "name": "stdout",
     "output_type": "stream",
     "text": [
      "17\n",
      "6\n",
      "Creating window glfw\n"
     ]
    }
   ],
   "source": [
    "import gym\n",
    "import numpy as np\n",
    "\n",
    "env_name = \"Walker2d-v2\"\n",
    "env = gym.make(env_name)\n",
    "\n",
    "obs = env.observation_space.shape[0]\n",
    "act = env.action_space.shape[0]\n",
    "print(obs)\n",
    "print(act)\n",
    "\n",
    "env.reset()\n",
    "while True:\n",
    "    a = np.random.rand()\n",
    "    env.step(np.array([0, a, 0, 0, 0, 0]))\n",
    "    env.render()\n"
   ]
  },
  {
   "cell_type": "code",
   "execution_count": null,
   "metadata": {},
   "outputs": [],
   "source": []
  }
 ],
 "metadata": {
  "kernelspec": {
   "display_name": "Python 3",
   "language": "python",
   "name": "python3"
  },
  "language_info": {
   "codemirror_mode": {
    "name": "ipython",
    "version": 3
   },
   "file_extension": ".py",
   "mimetype": "text/x-python",
   "name": "python",
   "nbconvert_exporter": "python",
   "pygments_lexer": "ipython3",
   "version": "3.6.10"
  }
 },
 "nbformat": 4,
 "nbformat_minor": 4
}

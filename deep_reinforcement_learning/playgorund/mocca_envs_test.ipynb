{
 "cells": [
  {
   "cell_type": "code",
   "execution_count": null,
   "metadata": {},
   "outputs": [],
   "source": [
    "import gym\n",
    "import time\n",
    "import numpy as np\n",
    "import pybulletgym\n",
    "import mocca_envs\n",
    "\n",
    "#Walker2DBulletEnv\n",
    "#HumanoidBulletEnv\n",
    "#Walker3DCustomEnv\n",
    "#Walker3DStepperEnv\n",
    "#CassieEnv-v0\n",
    "#Child3DCustomEnv-v0\n",
    "#Walker3DChairEnv-v0\n",
    "env_name = \"Walker2DPyBulletEnv-v0\"\n",
    "env = gym.make(env_name)\n",
    "obs = env.reset()\n",
    "\n",
    "while True:\n",
    "    env.step(env.action_space.sample())\n",
    "\n"
   ]
  },
  {
   "cell_type": "code",
   "execution_count": 4,
   "metadata": {},
   "outputs": [
    {
     "name": "stdout",
     "output_type": "stream",
     "text": [
      "[-3.56782075e-04  1.24916461e+00 -8.34308170e-03 -1.10854528e-02\n",
      "  2.23328784e-03 -1.18478831e-02 -1.20972083e-02  3.71130107e-03\n",
      "  5.20945713e-02]\n",
      "17\n",
      "6\n"
     ]
    }
   ],
   "source": [
    "import gym\n",
    "import numpy as np\n",
    "\n",
    "env_name = \"Walker2d-v2\"\n",
    "env = gym.make(env_name)\n",
    "\n",
    "obs = env.observation_space.shape[0]\n",
    "act = env.action_space.shape[0]\n",
    "print(obs)\n",
    "print(act)\n",
    "\n",
    "#env.reset()\n",
    "#while True:\n",
    "#    a = 2*(np.random.rand()-0.5)\n",
    "#    env.step(np.array([a, 0, 0,0, 0, 0, 0]))\n",
    "#    env.render()\n"
   ]
  },
  {
   "cell_type": "code",
   "execution_count": 5,
   "metadata": {},
   "outputs": [
    {
     "data": {
      "text/plain": [
       "32"
      ]
     },
     "execution_count": 5,
     "metadata": {},
     "output_type": "execute_result"
    }
   ],
   "source": [
    "a = [1,2,3]\n",
    "b = [4,5,6]\n",
    "np.dot(a,b)"
   ]
  },
  {
   "cell_type": "code",
   "execution_count": null,
   "metadata": {},
   "outputs": [],
   "source": []
  }
 ],
 "metadata": {
  "kernelspec": {
   "display_name": "Python 3",
   "language": "python",
   "name": "python3"
  },
  "language_info": {
   "codemirror_mode": {
    "name": "ipython",
    "version": 3
   },
   "file_extension": ".py",
   "mimetype": "text/x-python",
   "name": "python",
   "nbconvert_exporter": "python",
   "pygments_lexer": "ipython3",
   "version": "3.6.10"
  }
 },
 "nbformat": 4,
 "nbformat_minor": 4
}

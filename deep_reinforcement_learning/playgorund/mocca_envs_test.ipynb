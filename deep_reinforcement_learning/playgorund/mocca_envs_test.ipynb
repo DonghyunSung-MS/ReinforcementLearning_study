{
 "cells": [
  {
   "cell_type": "code",
   "execution_count": null,
   "metadata": {},
   "outputs": [],
   "source": [
    "import gym\n",
    "import time\n",
    "import numpy as np\n",
    "import pybulletgym\n",
    "import mocca_envs\n",
    "\n",
    "#Walker2DBulletEnv\n",
    "#HumanoidBulletEnv\n",
    "#Walker3DCustomEnv\n",
    "#Walker3DStepperEnv\n",
    "#CassieEnv-v0\n",
    "#Child3DCustomEnv-v0\n",
    "#Walker3DChairEnv-v0\n",
    "env_name = \"Walker2DPyBulletEnv-v0\"\n",
    "env = gym.make(env_name)\n",
    "obs = env.reset()\n",
    "\n",
    "while True:\n",
    "    env.step(env.action_space.sample())\n",
    "\n"
   ]
  },
  {
   "cell_type": "code",
   "execution_count": null,
   "metadata": {},
   "outputs": [],
   "source": []
  }
 ],
 "metadata": {
  "kernelspec": {
   "display_name": "Python 3",
   "language": "python",
   "name": "python3"
  },
  "language_info": {
   "codemirror_mode": {
    "name": "ipython",
    "version": 3
   },
   "file_extension": ".py",
   "mimetype": "text/x-python",
   "name": "python",
   "nbconvert_exporter": "python",
   "pygments_lexer": "ipython3",
   "version": "3.6.10"
  }
 },
 "nbformat": 4,
 "nbformat_minor": 4
}

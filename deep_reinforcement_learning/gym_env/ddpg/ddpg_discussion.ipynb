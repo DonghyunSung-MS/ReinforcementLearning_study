{
 "cells": [
  {
   "cell_type": "code",
   "execution_count": 102,
   "metadata": {},
   "outputs": [],
   "source": [
    "import seaborn as sns\n",
    "import pandas as pd\n",
    "import matplotlib.pyplot as plt\n",
    "%matplotlib inline "
   ]
  },
  {
   "cell_type": "code",
   "execution_count": 103,
   "metadata": {},
   "outputs": [],
   "source": [
    "data_loss = pd.read_csv('ddpg_loss.csv')\n",
    "data_return = pd.read_csv('ddpg_ep_return.csv')"
   ]
  },
  {
   "cell_type": "code",
   "execution_count": 118,
   "metadata": {},
   "outputs": [
    {
     "name": "stdout",
     "output_type": "stream",
     "text": [
      "<class 'pandas.core.frame.DataFrame'>\n",
      "RangeIndex: 119879 entries, 0 to 119878\n",
      "Data columns (total 2 columns):\n",
      " #   Column  Non-Null Count   Dtype  \n",
      "---  ------  --------------   -----  \n",
      " 0   critic  119879 non-null  float64\n",
      " 1   actor   119879 non-null  float64\n",
      "dtypes: float64(2)\n",
      "memory usage: 1.8 MB\n"
     ]
    },
    {
     "data": {
      "text/html": [
       "<div>\n",
       "<style scoped>\n",
       "    .dataframe tbody tr th:only-of-type {\n",
       "        vertical-align: middle;\n",
       "    }\n",
       "\n",
       "    .dataframe tbody tr th {\n",
       "        vertical-align: top;\n",
       "    }\n",
       "\n",
       "    .dataframe thead th {\n",
       "        text-align: right;\n",
       "    }\n",
       "</style>\n",
       "<table border=\"1\" class=\"dataframe\">\n",
       "  <thead>\n",
       "    <tr style=\"text-align: right;\">\n",
       "      <th></th>\n",
       "      <th>return</th>\n",
       "      <th>eplength</th>\n",
       "    </tr>\n",
       "  </thead>\n",
       "  <tbody>\n",
       "    <tr>\n",
       "      <th>0</th>\n",
       "      <td>-1.546962</td>\n",
       "      <td>999</td>\n",
       "    </tr>\n",
       "    <tr>\n",
       "      <th>1</th>\n",
       "      <td>-1.216889</td>\n",
       "      <td>999</td>\n",
       "    </tr>\n",
       "    <tr>\n",
       "      <th>2</th>\n",
       "      <td>-6.410310</td>\n",
       "      <td>999</td>\n",
       "    </tr>\n",
       "    <tr>\n",
       "      <th>3</th>\n",
       "      <td>-9.189202</td>\n",
       "      <td>999</td>\n",
       "    </tr>\n",
       "    <tr>\n",
       "      <th>4</th>\n",
       "      <td>-5.982410</td>\n",
       "      <td>999</td>\n",
       "    </tr>\n",
       "    <tr>\n",
       "      <th>...</th>\n",
       "      <td>...</td>\n",
       "      <td>...</td>\n",
       "    </tr>\n",
       "    <tr>\n",
       "      <th>489</th>\n",
       "      <td>93.297775</td>\n",
       "      <td>71</td>\n",
       "    </tr>\n",
       "    <tr>\n",
       "      <th>490</th>\n",
       "      <td>93.239745</td>\n",
       "      <td>70</td>\n",
       "    </tr>\n",
       "    <tr>\n",
       "      <th>491</th>\n",
       "      <td>93.159166</td>\n",
       "      <td>74</td>\n",
       "    </tr>\n",
       "    <tr>\n",
       "      <th>492</th>\n",
       "      <td>93.319027</td>\n",
       "      <td>72</td>\n",
       "    </tr>\n",
       "    <tr>\n",
       "      <th>493</th>\n",
       "      <td>93.255075</td>\n",
       "      <td>71</td>\n",
       "    </tr>\n",
       "  </tbody>\n",
       "</table>\n",
       "<p>494 rows × 2 columns</p>\n",
       "</div>"
      ],
      "text/plain": [
       "        return  eplength\n",
       "0    -1.546962       999\n",
       "1    -1.216889       999\n",
       "2    -6.410310       999\n",
       "3    -9.189202       999\n",
       "4    -5.982410       999\n",
       "..         ...       ...\n",
       "489  93.297775        71\n",
       "490  93.239745        70\n",
       "491  93.159166        74\n",
       "492  93.319027        72\n",
       "493  93.255075        71\n",
       "\n",
       "[494 rows x 2 columns]"
      ]
     },
     "execution_count": 118,
     "metadata": {},
     "output_type": "execute_result"
    }
   ],
   "source": [
    "data_loss.info()\n",
    "data_return"
   ]
  },
  {
   "cell_type": "code",
   "execution_count": 105,
   "metadata": {},
   "outputs": [],
   "source": [
    "data.columns = ['episode', 'return', 'eplength']"
   ]
  },
  {
   "cell_type": "code",
   "execution_count": 113,
   "metadata": {},
   "outputs": [],
   "source": [
    "data_loss.columns = ['critic','actor']"
   ]
  },
  {
   "cell_type": "code",
   "execution_count": 107,
   "metadata": {},
   "outputs": [],
   "source": [
    "data_return.columns = ['return', 'eplength']"
   ]
  },
  {
   "cell_type": "markdown",
   "metadata": {},
   "source": [
    "## First Try\n",
    "* Q network diverge"
   ]
  },
  {
   "cell_type": "code",
   "execution_count": 109,
   "metadata": {
    "scrolled": true
   },
   "outputs": [
    {
     "data": {
      "text/plain": [
       "<seaborn.axisgrid.FacetGrid at 0x7f2ea92db940>"
      ]
     },
     "execution_count": 109,
     "metadata": {},
     "output_type": "execute_result"
    },
    {
     "data": {
      "image/png": "[encoded data removed]",
      "text/plain": [
       "<Figure size 360x360 with 1 Axes>"
      ]
     },
     "metadata": {
      "needs_background": "light"
     },
     "output_type": "display_data"
    }
   ],
   "source": [
    "ax = sns.relplot(x=range(data_return.shape[0]),y='return',kind='line',data=data_return)\n",
    "ax.set(xlabel='#episode',ylabel='return',title=\"Return progress during trainning\")"
   ]
  },
  {
   "cell_type": "code",
   "execution_count": 117,
   "metadata": {},
   "outputs": [
    {
     "data": {
      "text/plain": [
       "<seaborn.axisgrid.FacetGrid at 0x7f2ea8a0cd30>"
      ]
     },
     "execution_count": 117,
     "metadata": {},
     "output_type": "execute_result"
    },
    {
     "data": {
      "image/png": "[encoded data removed]",
      "text/plain": [
       "<Figure size 360x360 with 1 Axes>"
      ]
     },
     "metadata": {
      "needs_background": "light"
     },
     "output_type": "display_data"
    }
   ],
   "source": [
    "ax4 = sns.relplot(x=range(data_return.shape[0]),y='eplength',kind='line',data=data_return)\n",
    "ax4.set(xlabel='#episode',ylabel='length',title=\"Return progress during trainning\")"
   ]
  },
  {
   "cell_type": "code",
   "execution_count": 115,
   "metadata": {},
   "outputs": [
    {
     "data": {
      "text/plain": [
       "<seaborn.axisgrid.FacetGrid at 0x7f2ea8ab8198>"
      ]
     },
     "execution_count": 115,
     "metadata": {},
     "output_type": "execute_result"
    },
    {
     "data": {
      "image/png": "[encoded data removed]",
      "text/plain": [
       "<Figure size 360x360 with 1 Axes>"
      ]
     },
     "metadata": {
      "needs_background": "light"
     },
     "output_type": "display_data"
    }
   ],
   "source": [
    "ax2 = sns.relplot(x=range(data_loss.shape[0]),y='critic',kind='line',data=data_loss)\n",
    "ax2.set(xlabel='#epoch',ylabel='loss',title=\"loss progress during trainning\")"
   ]
  },
  {
   "cell_type": "code",
   "execution_count": 116,
   "metadata": {},
   "outputs": [
    {
     "data": {
      "text/plain": [
       "<seaborn.axisgrid.FacetGrid at 0x7f2ea8695860>"
      ]
     },
     "execution_count": 116,
     "metadata": {},
     "output_type": "execute_result"
    },
    {
     "data": {
      "image/png": "[encoded data removed]",
      "text/plain": [
       "<Figure size 360x360 with 1 Axes>"
      ]
     },
     "metadata": {
      "needs_background": "light"
     },
     "output_type": "display_data"
    }
   ],
   "source": [
    "ax3 = sns.relplot(x=range(data_loss.shape[0]),y='actor',kind='line',data=data_loss)\n",
    "ax3.set(xlabel='#epoch',ylabel='loss',title=\"loss progress during trainning\")"
   ]
  },
  {
   "cell_type": "code",
   "execution_count": 1,
   "metadata": {},
   "outputs": [
    {
     "name": "stderr",
     "output_type": "stream",
     "text": [
      "/home/donghyun/anaconda2/envs/gym_torch/lib/python3.6/site-packages/gym/logger.py:30: UserWarning: \u001b[33mWARN: Box bound precision lowered by casting to float32\u001b[0m\n",
      "  warnings.warn(colorize('%s: %s'%('WARN', msg % args), 'yellow'))\n"
     ]
    }
   ],
   "source": [
    "import gym\n",
    "import sys,os\n",
    "sys.path.append(os.pardir)\n",
    "from ddpg.class_NN import *\n",
    "from copy import deepcopy\n",
    "env = gym.make('MountainCarContinuous-v0')\n",
    "device = torch.device(\"cuda\" if torch.cuda.is_available() else \"cpu\")\n"
   ]
  },
  {
   "cell_type": "code",
   "execution_count": 2,
   "metadata": {},
   "outputs": [
    {
     "data": {
      "text/plain": [
       "AC_Agent(\n",
       "  (actor): Actor(\n",
       "    (policy_mlp): Sequential(\n",
       "      (0): Linear(in_features=2, out_features=256, bias=True)\n",
       "      (1): ReLU()\n",
       "      (2): Linear(in_features=256, out_features=256, bias=True)\n",
       "      (3): ReLU()\n",
       "      (4): Linear(in_features=256, out_features=1, bias=True)\n",
       "      (5): Tanh()\n",
       "    )\n",
       "  )\n",
       "  (critic): Critic(\n",
       "    (Q_mlp): Sequential(\n",
       "      (0): Linear(in_features=3, out_features=256, bias=True)\n",
       "      (1): ReLU()\n",
       "      (2): Linear(in_features=256, out_features=256, bias=True)\n",
       "      (3): ReLU()\n",
       "      (4): Linear(in_features=256, out_features=1, bias=True)\n",
       "      (5): Identity()\n",
       "    )\n",
       "  )\n",
       ")"
      ]
     },
     "execution_count": 2,
     "metadata": {},
     "output_type": "execute_result"
    }
   ],
   "source": [
    "num_test = 100\n",
    "ac = torch.load('ddpg.pth')\n",
    "ac.eval()"
   ]
  },
  {
   "cell_type": "code",
   "execution_count": 3,
   "metadata": {},
   "outputs": [
    {
     "data": {
      "text/plain": [
       "Critic(\n",
       "  (Q_mlp): Sequential(\n",
       "    (0): Linear(in_features=3, out_features=256, bias=True)\n",
       "    (1): ReLU()\n",
       "    (2): Linear(in_features=256, out_features=256, bias=True)\n",
       "    (3): ReLU()\n",
       "    (4): Linear(in_features=256, out_features=1, bias=True)\n",
       "    (5): Identity()\n",
       "  )\n",
       ")"
      ]
     },
     "execution_count": 3,
     "metadata": {},
     "output_type": "execute_result"
    }
   ],
   "source": [
    "ac.critic"
   ]
  },
  {
   "cell_type": "code",
   "execution_count": 4,
   "metadata": {},
   "outputs": [],
   "source": [
    "gauss_noise = 0.1\n",
    "act_dim = env.action_space.shape[0]\n",
    "act_limit = env.action_space.high[0]\n",
    "def get_action(o, noise_scale):\n",
    "    o = torch.from_numpy(o)\n",
    "    a = ac.act(o)\n",
    "    a = a.to(\"cpu\").numpy()\n",
    "    noise = np.random.randn(act_dim).astype(np.float32)\n",
    "    a += noise_scale * noise\n",
    "    return np.clip(a, -act_limit, act_limit)\n"
   ]
  },
  {
   "cell_type": "code",
   "execution_count": null,
   "metadata": {},
   "outputs": [],
   "source": [
    "ep_len_history = []\n",
    "ep_return_history = []\n",
    "gamma = 0.99\n",
    "num_test = 100\n",
    "for i in range(num_test):\n",
    "    d = False\n",
    "    o = env.reset()\n",
    "    ep_len = 0\n",
    "    ep_return = 0\n",
    "    while not d:\n",
    "        a = get_action(o, 0)\n",
    "        o_, r, d, _ = env.step(a)\n",
    "        env.render()\n",
    "        o = o_\n",
    "        ep_len+=1\n",
    "        ep_return += gamma*r\n",
    "    ep_len_history.append(ep_len)\n",
    "    ep_return_history.append(ep_return_history)\n",
    "        "
   ]
  },
  {
   "cell_type": "markdown",
   "metadata": {},
   "source": [
    "# Test Agent"
   ]
  },
  {
   "cell_type": "code",
   "execution_count": 1,
   "metadata": {},
   "outputs": [],
   "source": [
    "import torch\n",
    "import torch.nn as nn\n",
    "import numpy as np\n",
    "device = torch.device(\"cuda\" if torch.cuda.is_available() else \"cpu\")"
   ]
  },
  {
   "cell_type": "code",
   "execution_count": 2,
   "metadata": {},
   "outputs": [],
   "source": [
    "def mlp(layer_sizes,act,out_act=nn.Identity):\n",
    "    layers=[]\n",
    "    for i in range(len(layer_sizes)-1):\n",
    "        ac = act if i<len(layer_sizes)-2 else out_act\n",
    "        layers += [nn.Linear(layer_sizes[i], layer_sizes[i+1]),ac()]\n",
    "    return nn.Sequential(*layers)"
   ]
  },
  {
   "cell_type": "code",
   "execution_count": 3,
   "metadata": {},
   "outputs": [],
   "source": [
    "class Actor(nn.Module):\n",
    "    def __init__(self, state_size, action_size, args):\n",
    "        super().__init__()\n",
    "        self.pi_size = [state_size] + args.hidden_sizes + [action_size] \n",
    "        self.pi_mlp = mlp(self.pi_size, nn.ReLU)\n",
    "    def forward(self, x):\n",
    "        return self.pi_mlp(x)"
   ]
  },
  {
   "cell_type": "code",
   "execution_count": 4,
   "metadata": {},
   "outputs": [],
   "source": [
    "import easydict\n",
    "args = easydict.EasyDict({\"env_name\" : \"Pendulum-v0\",\n",
    "                          'load_model':None,\n",
    "                          \"save_path\" : \"./gdrive/My Drive/Colab Notebooks/save_model/\",\n",
    "                          \"render\":False,\n",
    "                          'gamma':0.99,\n",
    "                          \"hidden_sizes\":(128,128),\n",
    "                          \"batch_size\":128,\n",
    "                          \"actor_lr\":1e-4,\n",
    "                          \"critic_lr\":1e-3,\n",
    "                          \"theta\":0.15,\n",
    "                          'mu':0.0,\n",
    "                          'sigma':0.3,\n",
    "                          'tau':0.001,\n",
    "                          'gradient_clip_actor':0.5,\n",
    "                          'gradient_clip_critic':1.0,\n",
    "                          'max_iter_num':1000,\n",
    "                          'log_interval':10,\n",
    "                          'goal_score':-350,\n",
    "                          'logdir': \"./gdrive/My Drive/Colab Notebooks/logs/\",\n",
    "                          'test_iter':1000,\n",
    "                          'model':\"model.pth.tar\",\n",
    "                          }) "
   ]
  },
  {
   "cell_type": "code",
   "execution_count": 5,
   "metadata": {},
   "outputs": [],
   "source": [
    "class OUNoise:\n",
    "    def __init__(self, action_size, theta, mu, sigma):\n",
    "        self.action_size = action_size\n",
    "        self.theta = theta\n",
    "        self.mu = mu\n",
    "        self.sigma = sigma\n",
    "        self.X = np.zeros(self.action_size) \n",
    "\n",
    "    def sample(self):\n",
    "        dx = self.theta * (self.mu - self.X) + self.sigma * np.random.randn(len(self.X))\n",
    "        self.X = self.X + dx\n",
    "        \n",
    "        return self.X\n",
    "\n",
    "def get_action(policy, ou_noise, env):\n",
    "    policy = policy.cpu()\n",
    "    action = policy.detach().numpy() +ou_noise.sample() #0.01*np.random.randn(policy.shape[0])\n",
    "    action = np.clip(action, env.action_space.low, env.action_space.high)\n",
    "    return action"
   ]
  },
  {
   "cell_type": "code",
   "execution_count": null,
   "metadata": {},
   "outputs": [
    {
     "name": "stderr",
     "output_type": "stream",
     "text": [
      "/home/donghyun/anaconda2/envs/gym_torch/lib/python3.6/site-packages/gym/logger.py:30: UserWarning: \u001b[33mWARN: Box bound precision lowered by casting to float32\u001b[0m\n",
      "  warnings.warn(colorize('%s: %s'%('WARN', msg % args), 'yellow'))\n"
     ]
    },
    {
     "name": "stdout",
     "output_type": "stream",
     "text": [
      "0 episode | score: -134.89\n",
      "10 episode | score: -136.27\n"
     ]
    }
   ],
   "source": [
    "import gym\n",
    "import gym.wrappers as wrappers\n",
    "\n",
    "env_to_wrap = gym.make(args.env_name)\n",
    "env = wrappers.Monitor(env_to_wrap, '../ddpg/wrapper',force=True)\n",
    "env.seed(500)\n",
    "torch.manual_seed(500)\n",
    "\n",
    "state_size = env.observation_space.shape[0]\n",
    "action_size = env.action_space.shape[0]\n",
    "\n",
    "actor = Actor(state_size,action_size,args)\n",
    "\n",
    "\n",
    "tr_model_path = 'final_model.pth.tar'\n",
    "tr_model = torch.load(tr_model_path)\n",
    "actor.load_state_dict(tr_model)\n",
    "\n",
    "ou_noise = OUNoise(action_size, 0, 0, 0)\n",
    "steps = 0\n",
    "\n",
    "for episode in range(args.test_iter):\n",
    "    done = False\n",
    "    score = 0\n",
    "    state = env.reset()\n",
    "    state = np.reshape(state, [1,state_size])\n",
    "\n",
    "    while not done:\n",
    "        env.render()\n",
    "        steps +=1\n",
    "        policy = actor(torch.Tensor(state)).to(device)\n",
    "        action = get_action(policy, ou_noise, env)\n",
    "                    \n",
    "        next_state, reward, done, _ = env.step(action)\n",
    "        \n",
    "        next_state = np.reshape(next_state, [1, state_size])\n",
    "        state = next_state\n",
    "        score += reward\n",
    "    if episode % args.log_interval == 0:\n",
    "        print('{} episode | score: {:.2f}'.format(episode, score[0]))\n",
    "env.close()\n",
    "env_to_wrap.close()"
   ]
  },
  {
   "cell_type": "code",
   "execution_count": null,
   "metadata": {},
   "outputs": [],
   "source": []
  }
 ],
 "metadata": {
  "kernelspec": {
   "display_name": "Python 3",
   "language": "python",
   "name": "python3"
  },
  "language_info": {
   "codemirror_mode": {
    "name": "ipython",
    "version": 3
   },
   "file_extension": ".py",
   "mimetype": "text/x-python",
   "name": "python",
   "nbconvert_exporter": "python",
   "pygments_lexer": "ipython3",
   "version": "3.6.10"
  }
 },
 "nbformat": 4,
 "nbformat_minor": 4
}

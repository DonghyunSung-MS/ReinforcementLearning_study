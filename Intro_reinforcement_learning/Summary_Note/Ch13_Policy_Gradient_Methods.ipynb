{
 "cells": [
  {
   "cell_type": "markdown",
   "metadata": {},
   "source": [
    "# PG with Adavantage"
   ]
  },
  {
   "cell_type": "markdown",
   "metadata": {},
   "source": [
    "## policy gradient derivation\n",
    "\n",
    "$\\large J(\\theta)=E_{\\tau\\sim\\pi_{\\theta}}[G_t] $\n",
    "\n",
    "$\\large J(\\theta) = \\sum {or} \\int P(\\tau|\\theta)G_{t}$\n",
    "\n",
    "$\\large P(\\tau|\\theta)=\\rho(s_0)\\Pi p(s'|s,a)\\pi_{\\theta}(a|s)$\n",
    "\n",
    "$\\large P(\\tau|\\theta) \\nabla \\log{P(\\tau|\\theta)} = P(\\tau|\\theta)\\sum\\nabla\\log{\\pi_{\\theta}(a|s)}$\n",
    "\n",
    "$\\large \\nabla J(\\theta) = \\sum {or} \\int \\nabla P(\\tau|\\theta)G_{t}$\n",
    "\n",
    "$\\large \\nabla J(\\theta) = \\sum {or} \\int P(\\tau|\\theta)\\sum\\nabla\\log{\\pi_{\\theta}(a|s)}G_{t}$\n",
    "\n",
    "$\\large \\nabla J(\\theta) = E{\\tau\\sim\\pi_{\\theta}}[\\sum\\nabla\\log{\\pi_{\\theta}(a|s)}G_{t}(\\tau)]$"
   ]
  },
  {
   "cell_type": "code",
   "execution_count": null,
   "metadata": {},
   "outputs": [],
   "source": []
  }
 ],
 "metadata": {
  "kernelspec": {
   "display_name": "Python 3",
   "language": "python",
   "name": "python3"
  },
  "language_info": {
   "codemirror_mode": {
    "name": "ipython",
    "version": 3
   },
   "file_extension": ".py",
   "mimetype": "text/x-python",
   "name": "python",
   "nbconvert_exporter": "python",
   "pygments_lexer": "ipython3",
   "version": "3.6.10"
  }
 },
 "nbformat": 4,
 "nbformat_minor": 4
}

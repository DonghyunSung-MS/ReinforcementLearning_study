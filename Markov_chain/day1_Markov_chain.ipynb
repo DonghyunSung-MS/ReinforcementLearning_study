{
 "cells": [
  {
   "cell_type": "markdown",
   "metadata": {},
   "source": [
    "## MarKov_Chain Sample code\n",
    "\n",
    "#### with 4 discrete states and Pij Transition prob matrix\n",
    "\n",
    "#### Ref: <https://github.com/SungchulLee/reinforcement_learning>"
   ]
  },
  {
   "cell_type": "code",
   "execution_count": 1,
   "metadata": {},
   "outputs": [],
   "source": [
    "import numpy as np\n",
    "states = [0, 1, 2, 3]\n",
    "N_STATES = len(states)"
   ]
  },
  {
   "cell_type": "code",
   "execution_count": 2,
   "metadata": {},
   "outputs": [],
   "source": [
    "P = np.empty((N_STATES, N_STATES))\n",
    "l = 0.3 # left prob\n",
    "r = 0.3 # right prob\n",
    "s = 1.0 - l - r # stay prob\n",
    "# state transition matrix\n",
    "P[0, : ] = [l+s, r, 0, 0]\n",
    "P[1, : ] = [l, s, r, 0]\n",
    "P[2, : ] = [0, l, s, r]\n",
    "P[3, : ] = [0, 0, l, s+r]"
   ]
  },
  {
   "cell_type": "code",
   "execution_count": 6,
   "metadata": {},
   "outputs": [
    {
     "name": "stdout",
     "output_type": "stream",
     "text": [
      "2\n"
     ]
    }
   ],
   "source": [
    "# set random initial state\n",
    "np.random.seed(3)\n",
    "state = np.random.choice(states)\n",
    "print(state)"
   ]
  },
  {
   "cell_type": "code",
   "execution_count": 7,
   "metadata": {},
   "outputs": [
    {
     "name": "stdout",
     "output_type": "stream",
     "text": [
      "current_state:  2, next_state  2, transition_prob: 0.39999999999999997\n",
      "current_state:  2, next_state  3, transition_prob: 0.3\n",
      "current_state:  3, next_state  2, transition_prob: 0.3\n",
      "current_state:  2, next_state  2, transition_prob: 0.39999999999999997\n",
      "current_state:  2, next_state  1, transition_prob: 0.3\n"
     ]
    },
    {
     "data": {
      "image/png": "[encoded data removed]",
      "text/plain": [
       "<Figure size 432x288 with 1 Axes>"
      ]
     },
     "metadata": {
      "needs_background": "light"
     },
     "output_type": "display_data"
    }
   ],
   "source": [
    "import matplotlib.pyplot as plt\n",
    "\n",
    "np.random.seed(1)\n",
    "num_steps = 5\n",
    "msg = \"current_state: {:2}, next_state {:2}, transition_prob: {}\"\n",
    "state_history = []\n",
    "state_history.append(state)\n",
    "for _ in range(num_steps):\n",
    "    next_state = np.random.choice(states, p=P[state,:])\n",
    "    prob = P[state, next_state]\n",
    "    print(msg.format(state, next_state,prob))\n",
    "    state = next_state\n",
    "    state_history.append(state)\n",
    "\n",
    "fig, ax = plt.subplots()\n",
    "ax.plot(state_history, 'o--')\n",
    "ax.set_ylim([-0.1,3.1])\n",
    "ax.set_yticks([0,1,2,3])\n",
    "plt.show()"
   ]
  },
  {
   "attachments": {},
   "cell_type": "markdown",
   "metadata": {},
   "source": [
    "# Exercise\n",
    "![image.png](https://github.com/DonghyunSung-MS/ReinforcementLearning_study/blob/master/Markov_chain/day1_Markov_chain_exercise.png?raw=true)\n",
    "\n",
    "#### From lecture <https://www.youtube.com/user/sungchulyonseiackr>"
   ]
  },
  {
   "cell_type": "code",
   "execution_count": 35,
   "metadata": {},
   "outputs": [
    {
     "name": "stdout",
     "output_type": "stream",
     "text": [
      "[0, 1, 2, 3, 4, 5]\n",
      "6\n"
     ]
    }
   ],
   "source": [
    "import numpy as np\n",
    "\n",
    "r = 5 # number of balls = 5 also states\n",
    "states  = []\n",
    "for s in range(r+1):\n",
    "    states.append(s)\n",
    "print(states) # check states\n",
    "num_states = len(states)\n",
    "print(num_states) # check number of states"
   ]
  },
  {
   "cell_type": "code",
   "execution_count": 36,
   "metadata": {},
   "outputs": [
    {
     "name": "stdout",
     "output_type": "stream",
     "text": [
      "[[0.  1.  0.  0.  0.  0. ]\n",
      " [0.2 0.  0.8 0.  0.  0. ]\n",
      " [0.  0.4 0.  0.6 0.  0. ]\n",
      " [0.  0.  0.6 0.  0.4 0. ]\n",
      " [0.  0.  0.  0.8 0.  0.2]\n",
      " [0.  0.  0.  0.  1.  0. ]]\n"
     ]
    }
   ],
   "source": [
    "P = np.zeros((num_states,num_states)) # Transition matrix\n",
    "for k in range(num_states):\n",
    "    if k<=0:\n",
    "        P[k, k+1] = (r-k)/r\n",
    "    elif k>=5:\n",
    "        P[k, k-1] = k/r\n",
    "    else:\n",
    "        P[k, k+1] = (r-k)/r\n",
    "        P[k, k-1] = k/r        \n",
    "    # it also works below code\n",
    "    '''\n",
    "    try:\n",
    "        P[k, k+1] = (r-k)/r\n",
    "        P[k, k-1] = k/r\n",
    "    except:\n",
    "        P[k, k-1] = k/r\n",
    "        continue\n",
    "    '''\n",
    "print(P)"
   ]
  },
  {
   "cell_type": "code",
   "execution_count": 39,
   "metadata": {},
   "outputs": [
    {
     "name": "stdout",
     "output_type": "stream",
     "text": [
      "0\n"
     ]
    }
   ],
   "source": [
    "np.random.seed()\n",
    "current_state = np.random.choice(states) # initial random state or random start point\n",
    "print(current_state)"
   ]
  },
  {
   "cell_type": "code",
   "execution_count": 40,
   "metadata": {},
   "outputs": [
    {
     "name": "stdout",
     "output_type": "stream",
     "text": [
      "current state:  0 next_state  1 transition probability 1.0\n",
      "current state:  1 next_state  2 transition probability 0.8\n",
      "current state:  2 next_state  3 transition probability 0.6\n",
      "current state:  3 next_state  4 transition probability 0.4\n",
      "current state:  4 next_state  3 transition probability 0.8\n",
      "current state:  3 next_state  2 transition probability 0.6\n",
      "current state:  2 next_state  1 transition probability 0.4\n",
      "current state:  1 next_state  2 transition probability 0.8\n",
      "current state:  2 next_state  1 transition probability 0.4\n",
      "current state:  1 next_state  2 transition probability 0.8\n"
     ]
    },
    {
     "data": {
      "image/png": "[encoded data removed]",
      "text/plain": [
       "<Figure size 432x288 with 1 Axes>"
      ]
     },
     "metadata": {
      "needs_background": "light"
     },
     "output_type": "display_data"
    }
   ],
   "source": [
    "import matplotlib.pyplot as plt\n",
    "\n",
    "history = []\n",
    "history.append(current_state)\n",
    "msg_format = \"current state: {:2} next_state {:2} transition probability {}\"\n",
    "# set number of steps\n",
    "steps = 10\n",
    "# random seed\n",
    "np.random.seed()\n",
    "for _ in range(steps):\n",
    "    next_state = np.random.choice(states,p=P[current_state, : ])\n",
    "    p = P[current_state,next_state] # Pij : from i to  j prob\n",
    "    print(msg_format.format(current_state,next_state,p))\n",
    "    current_state = next_state # update\n",
    "    history.append(current_state)\n",
    "\n",
    "ex_fig,ex_ax = plt.subplots()\n",
    "ex_ax.plot(history,'o--')\n",
    "ex_ax.set_ylim([-0.1,5.1])\n",
    "ex_ax.set_yticks(states)\n",
    "plt.show()"
   ]
  },
  {
   "cell_type": "code",
   "execution_count": null,
   "metadata": {},
   "outputs": [],
   "source": []
  }
 ],
 "metadata": {
  "kernelspec": {
   "display_name": "Python 3",
   "language": "python",
   "name": "python3"
  },
  "language_info": {
   "codemirror_mode": {
    "name": "ipython",
    "version": 3
   },
   "file_extension": ".py",
   "mimetype": "text/x-python",
   "name": "python",
   "nbconvert_exporter": "python",
   "pygments_lexer": "ipython3",
   "version": "3.6.10"
  }
 },
 "nbformat": 4,
 "nbformat_minor": 2
}
